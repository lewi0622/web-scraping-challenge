{
 "cells": [
  {
   "cell_type": "code",
   "execution_count": null,
   "metadata": {},
   "outputs": [],
   "source": [
    "from bs4 import BeautifulSoup as bs\n",
    "import time\n",
    "import pandas as pd\n",
    "import requests\n",
    "from splinter import Browser"
   ]
  },
  {
   "cell_type": "code",
   "execution_count": null,
   "metadata": {},
   "outputs": [],
   "source": [
    "def init_browser():\n",
    "    \"\"\"initialize chrome browser using chromedriver\"\"\"\n",
    "    executable_path = {\"executable_path\": \"c:/bin/chromedriver\"}\n",
    "    return Browser(\"chrome\", **executable_path, headless=False)"
   ]
  },
  {
   "cell_type": "code",
   "execution_count": null,
   "metadata": {},
   "outputs": [],
   "source": [
    "# init browser\n",
    "browser = init_browser()"
   ]
  },
  {
   "cell_type": "code",
   "execution_count": null,
   "metadata": {},
   "outputs": [],
   "source": [
    "# nasa mars news site\n",
    "url = r'https://mars.nasa.gov/news/'\n",
    "browser.visit(url)\n",
    "\n",
    "# wait for page to load\n",
    "time.sleep(1)\n",
    "\n",
    "# soupify\n",
    "soup = bs(browser.html, features=\"lxml\")\n",
    "\n",
    "# find item list containing all article content\n",
    "item_list = soup.find('ul', class_='item_list')\n",
    "\n",
    "# access first item\n",
    "newest_article = item_list.li\n",
    "\n",
    "# get content title and body\n",
    "news_title = newest_article.find('div', class_='content_title').text\n",
    "news_p = newest_article.find('div', class_='article_teaser_body').text"
   ]
  },
  {
   "cell_type": "code",
   "execution_count": null,
   "metadata": {},
   "outputs": [],
   "source": [
    "# jpl featured space image\n",
    "url = r'https://www.jpl.nasa.gov/spaceimages/?search=&category=Mars'\n",
    "browser.visit(url)\n",
    "\n",
    "# wait for page to load\n",
    "time.sleep(1)\n",
    "\n",
    "# click on \"full image\" button\n",
    "browser.find_by_id('full_image').click()\n",
    "\n",
    "# get image url\n",
    "img_url = browser.find_by_css('img[class=\"fancybox-image\"]')['src']"
   ]
  },
  {
   "cell_type": "code",
   "execution_count": null,
   "metadata": {},
   "outputs": [],
   "source": [
    "# Mars Facts\n",
    "url = r'https://space-facts.com/mars/'\n",
    "\n",
    "# get tables with pandas\n",
    "planet_profile_df = pd.read_html(url)[0]\n",
    "\n",
    "# create html table\n",
    "planet_profile_html = planet_profile_df.to_html(index=False, header=False)"
   ]
  },
  {
   "cell_type": "code",
   "execution_count": null,
   "metadata": {},
   "outputs": [],
   "source": [
    "# Mars Hemispheres\n",
    "url = r'https://astrogeology.usgs.gov/search/results?q=hemisphere+enhanced&k1=target&v1=Mars'\n",
    "browser.visit(url)\n",
    "\n",
    "# wait for page to load\n",
    "time.sleep(1)\n",
    "\n",
    "# initialize image dict\n",
    "hemisphere_image_urls = [\n",
    "    {'title': 'Cerberus', 'url': ''},\n",
    "    {'title': 'Schiaparelli', 'url': ''},\n",
    "    {'title': 'Syrtis Major', 'url': ''},\n",
    "    {'title': 'Valles Marineris', 'url': ''}\n",
    "]\n",
    "\n",
    "for hemisphere in hemisphere_image_urls:\n",
    "    # click on link matching hemisphere name\n",
    "    browser.links.find_by_partial_text(hemisphere['title']).click()\n",
    "    time.sleep(0.5)\n",
    "    \n",
    "    # find image link\n",
    "    hemisphere['url'] = browser.find_by_css('img[class=\"wide-image\"]')['src']\n",
    "    browser.back()\n",
    "    time.sleep(0.5)"
   ]
  },
  {
   "cell_type": "code",
   "execution_count": null,
   "metadata": {},
   "outputs": [],
   "source": [
    "# close browser session\n",
    "browser.quit()"
   ]
  },
  {
   "cell_type": "code",
   "execution_count": null,
   "metadata": {},
   "outputs": [],
   "source": []
  }
 ],
 "metadata": {
  "kernelspec": {
   "display_name": "Python 3",
   "language": "python",
   "name": "python3"
  },
  "language_info": {
   "codemirror_mode": {
    "name": "ipython",
    "version": 3
   },
   "file_extension": ".py",
   "mimetype": "text/x-python",
   "name": "python",
   "nbconvert_exporter": "python",
   "pygments_lexer": "ipython3",
   "version": "3.6.10"
  }
 },
 "nbformat": 4,
 "nbformat_minor": 4
}
